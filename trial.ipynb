{
 "cells": [
  {
   "cell_type": "code",
   "execution_count": 1,
   "metadata": {},
   "outputs": [],
   "source": [
    "import sqlite3"
   ]
  },
  {
   "cell_type": "code",
   "execution_count": 2,
   "metadata": {},
   "outputs": [
    {
     "data": {
      "text/plain": [
       "<sqlite3.Cursor at 0x27dca876f10>"
      ]
     },
     "execution_count": 2,
     "metadata": {},
     "output_type": "execute_result"
    }
   ],
   "source": [
    "\"\"\"create a new database if the database doesn't already exist\n",
    "        database name testing.db\n",
    "        tables\n",
    "        1. Mst_testcases (testcase_id, name, test category, description, steps, expected_result, automated)\n",
    "        2. Mst_projects (project_id, name, description)\n",
    "        3. Mapping (map_id, project_id, testcase_id)\n",
    "        4. testresults(tr_id, map_id, result_description, config_info, tester, execution_date, pass_fail)\n",
    "        ON DELETE CASCADE\n",
    "\"\"\"\n",
    "\n",
    "conn = sqlite3.connect(\"testing.db\")\n",
    "# enforce foreign key rules\n",
    "conn.execute(\"PRAGMA foreign_keys = 1\")\n",
    "c = conn.cursor()\n",
    "\n",
    "# create tables\n",
    "c.execute(\"\"\"CREATE TABLE IF NOT EXISTS Mst_testcases (\n",
    "            testcase_id INTEGER PRIMARY KEY,\n",
    "            name TEXT,\n",
    "            test_category TEXT,\n",
    "            description TEXT,\n",
    "            steps TEXT,\n",
    "            expected_result TEXT,\n",
    "            automated TEXT )\"\"\")\n",
    "\n",
    "c.execute(\"\"\"CREATE TABLE IF NOT EXISTS Mst_projects (\n",
    "            project_id INTEGER PRIMARY KEY,\n",
    "            name TEXT,\n",
    "            description TEXT )\"\"\")\n",
    "\n",
    "c.execute(\"\"\"CREATE TABLE IF NOT EXISTS Mapping (\n",
    "            map_id INTEGER PRIMARY KEY,\n",
    "            project_id INTEGER,\n",
    "            testcase_id INTEGER,\n",
    "            FOREIGN KEY(project_id) REFERENCES Mst_projects(project_id),\n",
    "            FOREIGN KEY(testcase_id) REFERENCES Mst_testcases(testcase_id)\n",
    "            ON DELETE CASCADE )\"\"\")\n",
    "\n",
    "c.execute(\"\"\"CREATE TABLE IF NOT EXISTS testresults (\n",
    "            tr_id INTEGER PRIMARY KEY,\n",
    "            map_id INTEGER,\n",
    "            result_description TEXT,\n",
    "            config_info TEXT,\n",
    "            tester TEXT,\n",
    "            execution_date TEXT,\n",
    "            pass_fail TEXT,\n",
    "            FOREIGN KEY(map_id) REFERENCES Mapping(map_id)\n",
    "            ON DELETE CASCADE )\"\"\")\n",
    "\n",
    "\n",
    "''' add uniqueness constraint on mapping table project id and testcase id'''\n",
    "c.execute(\"\"\"CREATE UNIQUE INDEX IF NOT EXISTS unique_mapping_index\n",
    "            ON Mapping(project_id, testcase_id)\"\"\")\n",
    "\n",
    "\n",
    "\n",
    "# insert or ignore project id 1 and testcase id 1 into mapping table\n",
    "c.execute(\"INSERT OR IGNORE INTO Mapping(project_id, testcase_id) VALUES(1, 1)\")\n"
   ]
  },
  {
   "cell_type": "code",
   "execution_count": 8,
   "metadata": {},
   "outputs": [],
   "source": [
    "# insert data into tables\n",
    "c.execute(\"INSERT INTO Mst_testcases (name, test_category, description, steps, expected_result, automated) VALUES(:name, :test_category, :description, :steps, :expected_result, :automated)\", \n",
    "{'name': 'testcase1', 'test_category':'test category 1','description': 'testcase1 description', 'steps': 'testcase1 steps', \n",
    "'expected_result': 'testcase1 expected result', 'automated': 'Yes'}) \n",
    "\n",
    "conn.commit()"
   ]
  },
  {
   "cell_type": "code",
   "execution_count": 9,
   "metadata": {},
   "outputs": [],
   "source": [
    "# insert data into Mst_projects\n",
    "c.execute(\"INSERT INTO Mst_projects (name, description) VALUES(:name, :description)\",\n",
    "{'name': 'project1', 'description': 'project1 description'})\n",
    "conn.commit()\n"
   ]
  },
  {
   "cell_type": "code",
   "execution_count": 10,
   "metadata": {},
   "outputs": [],
   "source": [
    "# insert data into Mapping\n",
    "c.execute(\"INSERT INTO Mapping (project_id, testcase_id) VALUES(:project_id, :testcase_id)\",\n",
    "{'project_id': 1, 'testcase_id': 1})\n",
    "\n",
    "# insert data into testresults\n",
    "c.execute(\"INSERT INTO testresults (map_id, result_description, config_info, tester, execution_date, pass_fail) VALUES(:map_id, :result_description, :config_info, :tester, :execution_date, :pass_fail)\",\n",
    "{'map_id': 1, 'result_description': 'testcase1 result description', 'config_info': 'testcase1 config info', 'tester': 'tester1', 'execution_date': '2019-01-01', 'pass_fail': 'pass'})\n",
    "\n",
    "conn.commit()"
   ]
  },
  {
   "cell_type": "code",
   "execution_count": 11,
   "metadata": {},
   "outputs": [
    {
     "name": "stdout",
     "output_type": "stream",
     "text": [
      "(1, 'testcase1', 'test category 1', 'testcase1 description', 'testcase1 steps', 'testcase1 expected result', 'Yes')\n",
      "(1, 'project1', 'project1 description')\n",
      "(2, 'project1', 'project1 description')\n",
      "(1, 1, 1)\n",
      "(1, 1, 'testcase1 result description', 'testcase1 config info', 'tester1', '2019-01-01', 'pass')\n"
     ]
    }
   ],
   "source": [
    "for row in (c.execute('SELECT * FROM Mst_testcases')):\n",
    "    print(row)\n",
    "\n",
    "for row in (c.execute('SELECT * FROM Mst_projects')):\n",
    "    print(row)\n",
    "\n",
    "for row in (c.execute('SELECT * FROM Mapping')):\n",
    "    print(row)\n",
    "\n",
    "for row in (c.execute('SELECT * FROM testresults')):\n",
    "    print(row)"
   ]
  },
  {
   "cell_type": "code",
   "execution_count": 12,
   "metadata": {},
   "outputs": [
    {
     "name": "stdout",
     "output_type": "stream",
     "text": [
      "('project1', 'project1 description', 'testcase1')\n"
     ]
    }
   ],
   "source": [
    "# select all rows from mapping table, then join with testcases table and projects table\n",
    "for row in (c.execute('SELECT Mst_projects.name, Mst_projects.description, Mst_testcases.name FROM Mst_testcases INNER JOIN Mapping ON Mst_testcases.testcase_id = Mapping.testcase_id INNER JOIN Mst_projects ON Mst_projects.project_id = Mapping.project_id')):\n",
    "    print(row)"
   ]
  },
  {
   "cell_type": "code",
   "execution_count": 1,
   "metadata": {},
   "outputs": [
    {
     "data": {
      "text/plain": [
       "'database schema\\n        database name testing.db\\n        tables\\n        1. Mst_testcases (testcase_id, name, test category, description, steps, expected_result, automated)\\n        2. Mst_projects (project_id, name, description)\\n        3. Mapping (map_id, project_id, testcase_id)\\n        4. testresults(tr_id, map_id, result_description, config_info, tester, execution_date, pass_fail)\\n        ON DELETE CASCADE\\n        \\n'"
      ]
     },
     "execution_count": 1,
     "metadata": {},
     "output_type": "execute_result"
    }
   ],
   "source": [
    "'''database schema\n",
    "        database name testing.db\n",
    "        tables\n",
    "        1. Mst_testcases (testcase_id, name, test category, description, steps, expected_result, automated)\n",
    "        2. Mst_projects (project_id, name, description)\n",
    "        3. Mapping (map_id, project_id, testcase_id)\n",
    "        4. testresults(tr_id, map_id, result_description, config_info, tester, execution_date, pass_fail)\n",
    "        ON DELETE CASCADE\n",
    "        \n",
    "'''\n",
    "\n",
    "\n"
   ]
  },
  {
   "cell_type": "code",
   "execution_count": 1,
   "metadata": {},
   "outputs": [],
   "source": [
    "d = {'table1_length': '10', '1_3_ResDescription': 'tried', '1_3_ConfigInfo': '1234', '1_3_Tester': 'Vaibhav', '1_3_Date': 'today', '1_3_PassFail': 'fail', '2_3_ResDescription': 'tried again', '2_3_ConfigInfo': '2345', '2_3_Tester': 'Rahul', '2_3_Date': 'yesterday', '2_3_PassFail': 'fail', '5_3_ResDescription': '', '5_3_ConfigInfo': '', '5_3_Tester': '', '5_3_Date': '', '5_3_PassFail': '', 'addsrc': 'Add Test Results'}"
   ]
  },
  {
   "cell_type": "code",
   "execution_count": 2,
   "metadata": {},
   "outputs": [],
   "source": [
    "# filter d to only include keys that start with a number\n",
    "d_filtered = {k: v for k, v in d.items() if \"Description\" in k or \"ConfigInfo\" in k or \"Tester\" in k or \"Date\" in k or \"PassFail\" in k}\n"
   ]
  },
  {
   "cell_type": "code",
   "execution_count": 17,
   "metadata": {},
   "outputs": [
    {
     "data": {
      "text/plain": [
       "{'1_3_ResDescription': 'tried',\n",
       " '1_3_ConfigInfo': '1234',\n",
       " '1_3_Tester': 'Vaibhav',\n",
       " '1_3_Date': 'today',\n",
       " '1_3_PassFail': 'fail',\n",
       " '2_3_ResDescription': 'tried again',\n",
       " '2_3_ConfigInfo': '2345',\n",
       " '2_3_Tester': 'Rahul',\n",
       " '2_3_Date': 'yesterday',\n",
       " '2_3_PassFail': 'fail',\n",
       " '5_3_ResDescription': '',\n",
       " '5_3_ConfigInfo': '',\n",
       " '5_3_Tester': '',\n",
       " '5_3_Date': '',\n",
       " '5_3_PassFail': ''}"
      ]
     },
     "execution_count": 17,
     "metadata": {},
     "output_type": "execute_result"
    }
   ],
   "source": [
    "d_filtered"
   ]
  },
  {
   "cell_type": "code",
   "execution_count": 24,
   "metadata": {},
   "outputs": [
    {
     "data": {
      "text/plain": [
       "[['1', '3', 'ResDescription', 'tried'],\n",
       " ['1', '3', 'ConfigInfo', '1234'],\n",
       " ['1', '3', 'Tester', 'Vaibhav'],\n",
       " ['1', '3', 'Date', 'today'],\n",
       " ['1', '3', 'PassFail', 'fail'],\n",
       " ['2', '3', 'ResDescription', 'tried again'],\n",
       " ['2', '3', 'ConfigInfo', '2345'],\n",
       " ['2', '3', 'Tester', 'Rahul'],\n",
       " ['2', '3', 'Date', 'yesterday'],\n",
       " ['2', '3', 'PassFail', 'fail']]"
      ]
     },
     "execution_count": 24,
     "metadata": {},
     "output_type": "execute_result"
    }
   ],
   "source": [
    "#convert d_filtered to list splitiong the key by _\n",
    "d_filtered_list = []\n",
    "for k, v in d_filtered.items():\n",
    "    if(len(v) > 1):\n",
    "        # d_filtered_list.append(k.split('_'))\n",
    "        temp = (k.split('_'))\n",
    "        temp.extend([v])\n",
    "        d_filtered_list.append(temp)\n",
    "\n",
    "d_filtered_list"
   ]
  },
  {
   "cell_type": "code",
   "execution_count": null,
   "metadata": {},
   "outputs": [],
   "source": [
    "'''database schema\n",
    "        database name testing.db\n",
    "        tables\n",
    "        1. Mst_testcases (testcase_id, name, test category, description, steps, expected_result, automated)\n",
    "        2. Mst_projects (project_id, name, description)\n",
    "        3. Mapping (map_id, project_id, testcase_id)\n",
    "        4. testresults(tr_id, map_id, result_description, config_info, tester, execution_date, pass_fail)\n",
    "        ON DELETE CASCADE\n",
    "        \n",
    "'''\n",
    "# d_filtered_list is a list of lists with the following structure\n",
    "# each element is a list of length 3, first being the testcase_id, second being the project_id, third being the result_description\n",
    "# use the testcase_id and project_id to select the row from mapping table\n",
    "\n",
    "c.execute(\"SELECT * FROM Mapping WHERE testcase_id = :testcase_id AND project_id = :project_id\",\n",
    "{'testcase_id': 1, 'project_id': 1})\n"
   ]
  },
  {
   "cell_type": "code",
   "execution_count": 29,
   "metadata": {},
   "outputs": [],
   "source": [
    "d_filtered_list = []\n",
    "for k, v in d_filtered.items():\n",
    "    if(len(v) > 1):\n",
    "        # d_filtered_list.append(k.split('_'))\n",
    "        temp = (k.split('_'))\n",
    "        temp.extend([v])\n",
    "        d_filtered_list.append(temp)\n",
    "\n",
    "# rewrite the above as list comprehension\n",
    "d_filtered_list = [k.split('_')+ [v] for k, v in d_filtered.items() if len(v) > 1]"
   ]
  },
  {
   "cell_type": "code",
   "execution_count": 30,
   "metadata": {},
   "outputs": [
    {
     "data": {
      "text/plain": [
       "[['1', '3', 'ResDescription', 'tried'],\n",
       " ['1', '3', 'ConfigInfo', '1234'],\n",
       " ['1', '3', 'Tester', 'Vaibhav'],\n",
       " ['1', '3', 'Date', 'today'],\n",
       " ['1', '3', 'PassFail', 'fail'],\n",
       " ['2', '3', 'ResDescription', 'tried again'],\n",
       " ['2', '3', 'ConfigInfo', '2345'],\n",
       " ['2', '3', 'Tester', 'Rahul'],\n",
       " ['2', '3', 'Date', 'yesterday'],\n",
       " ['2', '3', 'PassFail', 'fail']]"
      ]
     },
     "execution_count": 30,
     "metadata": {},
     "output_type": "execute_result"
    }
   ],
   "source": [
    "d_filtered_list"
   ]
  },
  {
   "cell_type": "code",
   "execution_count": 31,
   "metadata": {},
   "outputs": [],
   "source": [
    "d_filtered_with_mapping = [[3, '1', '3', 'ResDescription', 'Acid test'], [3, '1', '3', 'ConfigInfo', '1234'], [3, '1', '3', 'Tester', 'Vaibhav'], [3, '1', '3', 'Date', 'today'], [3, '1', '3', 'PassFail', 'PASS'], [4, '2', '3', 'ResDescription', 'Base Test'], [4, '2', '3', 'ConfigInfo', '2345'], [4, '2', '3', 'Tester', 'Rahul'], [4, '2', '3', 'Date', 'yesterday'], [4, \n",
    "'2', '3', 'PassFail', 'fail']]"
   ]
  },
  {
   "cell_type": "code",
   "execution_count": 32,
   "metadata": {},
   "outputs": [],
   "source": [
    "'''database schema\n",
    "        database name testing.db\n",
    "        tables\n",
    "        1. Mst_testcases (testcase_id, name, test category, description, steps, expected_result, automated)\n",
    "        2. Mst_projects (project_id, name, description)\n",
    "        3. Mapping (map_id, project_id, testcase_id)\n",
    "        4. testresults(tr_id, map_id, result_description, config_info, tester, execution_date, pass_fail)\n",
    "        ON DELETE CASCADE\n",
    "        \n",
    "'''\n",
    "d_filtered_with_mapping = [[3, '1', '3', 'ResDescription', 'Acid test'], [3, '1', '3', 'ConfigInfo', '1234'], [3, '1', '3', 'Tester', 'Vaibhav'], [3, '1', '3', 'Date', 'today'], [3, '1', '3', 'PassFail', 'PASS'], [4, '2', '3', 'ResDescription', 'Base Test'], [4, '2', '3', 'ConfigInfo', '2345'], [4, '2', '3', 'Tester', 'Rahul'], [4, '2', '3', 'Date', 'yesterday'], [4, \n",
    "'2', '3', 'PassFail', 'fail']]\n",
    "\n",
    "# query to insert the data into testresults table where the first element of the list is the map_id\n",
    "\n",
    "# gather the values from the list for each unique map_id into a dictionary\n",
    "# then insert the dictionary into testresults table\n",
    "\n",
    "d_tr = {}\n",
    "for i in d_filtered_with_mapping:\n",
    "    if i[0] not in d_tr:\n",
    "        d_tr[i[0]] = []\n",
    "    d_tr[i[0]].append({i[3]:i[4]})\n"
   ]
  },
  {
   "cell_type": "code",
   "execution_count": 33,
   "metadata": {},
   "outputs": [
    {
     "data": {
      "text/plain": [
       "{3: [{'ResDescription': 'Acid test'},\n",
       "  {'ConfigInfo': '1234'},\n",
       "  {'Tester': 'Vaibhav'},\n",
       "  {'Date': 'today'},\n",
       "  {'PassFail': 'PASS'}],\n",
       " 4: [{'ResDescription': 'Base Test'},\n",
       "  {'ConfigInfo': '2345'},\n",
       "  {'Tester': 'Rahul'},\n",
       "  {'Date': 'yesterday'},\n",
       "  {'PassFail': 'fail'}]}"
      ]
     },
     "execution_count": 33,
     "metadata": {},
     "output_type": "execute_result"
    }
   ],
   "source": [
    "for map_id in d_tr.keys():\n",
    "    c.execute(\"INSERT INTO testresults VALUES (:map_id, :result_description, :config_info, :tester, :execution_date, :pass_fail)\",\n",
    "    {'map_id': map_id, 'result_description': d_tr[map_id][0]['ResDescription'], 'config_info': d_tr[map_id][0]['ConfigInfo'], 'tester': d_tr[map_id][0]['Tester'], 'execution_date': d_tr[map_id][0]['Date'], 'pass_fail': d_tr[map_id][0]['PassFail']})"
   ]
  },
  {
   "cell_type": "code",
   "execution_count": 43,
   "metadata": {},
   "outputs": [
    {
     "data": {
      "text/plain": [
       "{3: {'ResDescription': 'Acid Test',\n",
       "  'ConfigInfo': '1234',\n",
       "  'Tester': 'Vaibhav',\n",
       "  'Date': 'today',\n",
       "  'PassFail': 'PASS'},\n",
       " 4: {'ResDescription': 'Base',\n",
       "  'ConfigInfo': '2345',\n",
       "  'Tester': 'Rahul',\n",
       "  'Date': 'yesterday',\n",
       "  'PassFail': 'fail'}}"
      ]
     },
     "execution_count": 43,
     "metadata": {},
     "output_type": "execute_result"
    }
   ],
   "source": [
    "'''database schema\n",
    "        database name testing.db\n",
    "        tables\n",
    "        1. Mst_testcases (testcase_id, name, test category, description, steps, expected_result, automated)\n",
    "        2. Mst_projects (project_id, name, description)\n",
    "        3. Mapping (map_id, project_id, testcase_id)\n",
    "        4. testresults(tr_id, map_id, result_description, config_info, tester, execution_date, pass_fail)\n",
    "        ON DELETE CASCADE\n",
    "        \n",
    "'''\n",
    "d_filtered_with_mapping = [[3, '1', '3', 'ResDescription', 'Acid Test'], [3, '1', '3', 'ConfigInfo', '1234'], [3, '1', '3', 'Tester', 'Vaibhav'], [3, '1', '3', 'Date', 'today'], [3, '1', '3', 'PassFail', 'PASS'], \n",
    "                        [4, '2', '3', 'ResDescription', 'Base'], [4, '2', '3', 'ConfigInfo', '2345'], \n",
    "                        [4, '2', '3', 'Tester', 'Rahul'], [4, '2', '3', 'Date', 'yesterday'], [4, '2', '3', 'PassFail', 'fail']]\n",
    "\n",
    "\n",
    "\n",
    "# query to insert the data into testresults table where the first element of the list is the map_id\n",
    "\n",
    "# gather the values from the list for each unique map_id into a dictionary\n",
    "# then insert the dictionary into testresults table\n",
    "\n",
    "d_tr = {}\n",
    "for i in d_filtered_with_mapping:\n",
    "    if i[0] not in d_tr:\n",
    "        d_tr[i[0]] = {}\n",
    "    d_tr[i[0]][i[3]] = i[4]\n",
    "d_tr"
   ]
  },
  {
   "cell_type": "code",
   "execution_count": 45,
   "metadata": {},
   "outputs": [
    {
     "data": {
      "text/plain": [
       "'Base'"
      ]
     },
     "execution_count": 45,
     "metadata": {},
     "output_type": "execute_result"
    }
   ],
   "source": [
    "d_tr[4]['ResDescription']"
   ]
  },
  {
   "cell_type": "code",
   "execution_count": null,
   "metadata": {},
   "outputs": [],
   "source": [
    "'''database schema\n",
    "        database name testing.db\n",
    "        tables\n",
    "        1. Mst_testcases (testcase_id, name, test category, description, steps, expected_result, automated)\n",
    "        2. Mst_projects (project_id, name, description)\n",
    "        3. Mapping (map_id, project_id, testcase_id)\n",
    "        4. testresults(tr_id, map_id, result_description, config_info, tester, execution_date, pass_fail)\n",
    "        ON DELETE CASCADE\n",
    "        \n",
    "'''\n",
    "\n",
    "# query to fetch all the test results for a particular project id from the testresults table, using the mapping table\n",
    "query = \"SELECT * FROM testresults WHERE map_id IN (SELECT map_id FROM mapping WHERE project_id = :project_id)\"\n",
    "\n",
    "# select all project id and testcase_id when map_id = 3 from the mapping table\n",
    "c.execute(\"SELECT project_id, testcase_id FROM mapping WHERE map_id = 3\")\n",
    "\n",
    "# select all project id, project_name and testcase_id, name, description, test_category when map_id = 3 from the mapping table koining with Mst_projects and Mst_testcases\n",
    "c.execute(\"SELECT project_id, project_name, testcase_id, name, description, test_category FROM mapping JOIN Mst_projects ON mapping.project_id = Mst_projects.project_id JOIN Mst_testcases ON mapping.testcase_id = Mst_testcases.testcase_id WHERE map_id = 3\")\n",
    "\n",
    "# query to fetch all the test results for a particular project id from the testresults table, using the mapping table\n",
    "query = \"SELECT * FROM testresults WHERE map_id IN (SELECT map_id FROM mapping WHERE project_id = :project_id)\"\n",
    "query = \"SELECT Mst_projects.*, Mst_testcases.* FROM mapping JOIN Mst_projects ON mapping.project_id = Mst_projects.project_id JOIN Mst_testcases ON mapping.testcase_id = Mst_testcases.testcase_id WHERE map_id = 3\""
   ]
  },
  {
   "cell_type": "code",
   "execution_count": null,
   "metadata": {},
   "outputs": [],
   "source": [
    "# inner join testresults and mapping tables on map_id, inner join the result with Mst_projects and Mst_testcases tables\n",
    "query = \"SELECT Mst_projects.*, Mst_testcases.*, testresults.* FROM mapping JOIN Mst_projects ON mapping.project_id = Mst_projects.project_id JOIN Mst_testcases ON mapping.testcase_id = Mst_testcases.testcase_id JOIN testresults ON mapping.map_id = testresults.map_id WHERE map_id = 3\"\n"
   ]
  },
  {
   "cell_type": "code",
   "execution_count": null,
   "metadata": {},
   "outputs": [],
   "source": [
    "'''database schema\n",
    "        database name testing.db\n",
    "        tables\n",
    "        1. Mst_testcases (testcase_id, name, test category, description, steps, expected_result, automated)\n",
    "        2. Mst_projects (project_id, name, description)\n",
    "        3. Mapping (map_id, project_id, testcase_id)\n",
    "        4. testresults(tr_id, map_id, result_description, config_info, tester, execution_date, pass_fail)\n",
    "        ON DELETE CASCADE\n",
    "        \n",
    "'''\n",
    "\n",
    "# Dump all data from all the tables as json\n",
    "import json\n",
    "\n",
    "# dump the data from the testresults table with inner joins to all the tables\n",
    "c.execute(\"SELECT Mst_projects.*, Mst_testcases.*, testresults.* FROM mapping JOIN Mst_projects ON mapping.project_id = Mst_projects.project_id JOIN Mst_testcases ON mapping.testcase_id = Mst_testcases.testcase_id JOIN testresults ON mapping.map_id = testresults.map_id\")\n"
   ]
  },
  {
   "cell_type": "code",
   "execution_count": 46,
   "metadata": {},
   "outputs": [],
   "source": [
    "import sqlite3\n",
    "conn = sqlite3.connect(\"testing.db\")\n",
    "# enforce foreign key rules\n",
    "conn.execute(\"PRAGMA foreign_keys = 1\")\n",
    "c = conn.cursor()\n",
    "dat = [row for row in c.execute(\"SELECT Mst_projects.*, Mst_testcases.*, testresults.* FROM mapping JOIN Mst_projects ON mapping.project_id = Mst_projects.project_id JOIN Mst_testcases ON mapping.testcase_id = Mst_testcases.testcase_id JOIN testresults ON mapping.map_id = testresults.map_id\")]\n"
   ]
  },
  {
   "cell_type": "code",
   "execution_count": 49,
   "metadata": {},
   "outputs": [
    {
     "data": {
      "text/plain": [
       "'[[1, \"project1\", \"project1 description\", 1, \"testcase1\", \"test category 1\", \"testcase1 description\", \"testcase1 steps\", \"testcase1 expected result\", \"Yes\", 1, 1, \"testcase1 result description\", \"testcase1 config info\", \"tester1\", \"2019-01-01\", \"pass\"], [3, \"ABCD\", \"by navneet\", 1, \"testcase1\", \"test category 1\", \"testcase1 description\", \"testcase1 steps\", \"testcase1 expected result\", \"Yes\", 2, 3, \"Acid Test\", \"1234\", \"Vaibhav\", \"today\", \"PASS\"], [3, \"ABCD\", \"by navneet\", 2, \"testcase2\", \"testCat3\", \"testcase2 description\", \"1. go. 2. come back\", \"test2Expected result\", \"No\", 3, 4, \"Base\", \"2345\", \"Rahul\", \"yesterday\", \"fail\"], [3, \"ABCD\", \"by navneet\", 5, \"tc5\", \"testCat3\", \"bjdskvsd\\\\r\\\\ndvsnvjfsdihvv\\\\r\\\\nfcvadfvtrhrjhmgfdsfvsb\\\\r\\\\nsfdfsdghftjfghhdgzsfaddn\", \"1. go. 2. come back 3.go back again\", \"test5Expected result\", \"25%\", 4, 16, \"Final cut\", \"6e7832\", \"mememe\", \"2030\", \"\"], [3, \"ABCD\", \"by navneet\", 5, \"tc5\", \"testCat3\", \"bjdskvsd\\\\r\\\\ndvsnvjfsdihvv\\\\r\\\\nfcvadfvtrhrjhmgfdsfvsb\\\\r\\\\nsfdfsdghftjfghhdgzsfaddn\", \"1. go. 2. come back 3.go back again\", \"test5Expected result\", \"25%\", 5, 16, \"test dups\", \"3423\", \"youyou\", \"aajhi\", \"patanahi\"]]'"
      ]
     },
     "execution_count": 49,
     "metadata": {},
     "output_type": "execute_result"
    }
   ],
   "source": [
    "import json\n",
    "json.dumps(dat)"
   ]
  },
  {
   "cell_type": "code",
   "execution_count": 50,
   "metadata": {},
   "outputs": [
    {
     "data": {
      "text/plain": [
       "[(1,\n",
       "  'project1',\n",
       "  'project1 description',\n",
       "  1,\n",
       "  'testcase1',\n",
       "  'test category 1',\n",
       "  'testcase1 description',\n",
       "  'testcase1 steps',\n",
       "  'testcase1 expected result',\n",
       "  'Yes'),\n",
       " (3,\n",
       "  'ABCD',\n",
       "  'by navneet',\n",
       "  1,\n",
       "  'testcase1',\n",
       "  'test category 1',\n",
       "  'testcase1 description',\n",
       "  'testcase1 steps',\n",
       "  'testcase1 expected result',\n",
       "  'Yes'),\n",
       " (3,\n",
       "  'ABCD',\n",
       "  'by navneet',\n",
       "  2,\n",
       "  'testcase2',\n",
       "  'testCat3',\n",
       "  'testcase2 description',\n",
       "  '1. go. 2. come back',\n",
       "  'test2Expected result',\n",
       "  'No'),\n",
       " (3,\n",
       "  'ABCD',\n",
       "  'by navneet',\n",
       "  5,\n",
       "  'tc5',\n",
       "  'testCat3',\n",
       "  'bjdskvsd\\r\\ndvsnvjfsdihvv\\r\\nfcvadfvtrhrjhmgfdsfvsb\\r\\nsfdfsdghftjfghhdgzsfaddn',\n",
       "  '1. go. 2. come back 3.go back again',\n",
       "  'test5Expected result',\n",
       "  '25%'),\n",
       " (3,\n",
       "  'ABCD',\n",
       "  'by navneet',\n",
       "  5,\n",
       "  'tc5',\n",
       "  'testCat3',\n",
       "  'bjdskvsd\\r\\ndvsnvjfsdihvv\\r\\nfcvadfvtrhrjhmgfdsfvsb\\r\\nsfdfsdghftjfghhdgzsfaddn',\n",
       "  '1. go. 2. come back 3.go back again',\n",
       "  'test5Expected result',\n",
       "  '25%')]"
      ]
     },
     "execution_count": 50,
     "metadata": {},
     "output_type": "execute_result"
    }
   ],
   "source": [
    "# inner join mapping table with Mst_projects table and Mst_testcases table\n",
    "\n",
    "\n",
    "query= \"SELECT Mst_projects.*, Mst_testcases.* FROM mapping JOIN Mst_projects ON mapping.project_id = Mst_projects.project_id JOIN Mst_testcases ON mapping.testcase_id = Mst_testcases.testcase_id JOIN testresults ON mapping.map_id = testresults.map_id\"\n",
    "dat = [row for row in c.execute(query)]\n",
    "dat"
   ]
  },
  {
   "cell_type": "code",
   "execution_count": 57,
   "metadata": {},
   "outputs": [],
   "source": [
    "import sqlite3\n",
    "conn = sqlite3.connect(\"testing.db\")\n",
    "# enforce foreign key rules\n",
    "conn.execute(\"PRAGMA foreign_keys = 1\")\n",
    "# c = conn.cursor()\n",
    "conn.row_factory = sqlite3.Row\n",
    "v  = conn.execute(\"select * from Mst_Projects\")\n",
    "# dat = [row for row in c.execute(\"SELECT Mst_projects.*, Mst_testcases.*, testresults.* FROM mapping JOIN Mst_projects ON mapping.project_id = Mst_projects.project_id JOIN Mst_testcases ON mapping.testcase_id = Mst_testcases.testcase_id JOIN testresults ON mapping.map_id = testresults.map_id\")]\n",
    "conn.close()\n"
   ]
  },
  {
   "cell_type": "code",
   "execution_count": 65,
   "metadata": {},
   "outputs": [
    {
     "data": {
      "text/plain": [
       "[{'project_id': 1,\n",
       "  'name': 'project1',\n",
       "  'description': 'project1 description',\n",
       "  'testcase_id': 1,\n",
       "  'test_category': 'test category 1',\n",
       "  'steps': 'testcase1 steps',\n",
       "  'expected_result': 'testcase1 expected result',\n",
       "  'automated': 'Yes',\n",
       "  'tr_id': 1,\n",
       "  'map_id': 1,\n",
       "  'result_description': 'testcase1 result description',\n",
       "  'config_info': 'testcase1 config info',\n",
       "  'tester': 'tester1',\n",
       "  'execution_date': '2019-01-01',\n",
       "  'pass_fail': 'pass'},\n",
       " {'project_id': 3,\n",
       "  'name': 'ABCD',\n",
       "  'description': 'by navneet',\n",
       "  'testcase_id': 1,\n",
       "  'test_category': 'test category 1',\n",
       "  'steps': 'testcase1 steps',\n",
       "  'expected_result': 'testcase1 expected result',\n",
       "  'automated': 'Yes',\n",
       "  'tr_id': 2,\n",
       "  'map_id': 3,\n",
       "  'result_description': 'Acid Test',\n",
       "  'config_info': '1234',\n",
       "  'tester': 'Vaibhav',\n",
       "  'execution_date': 'today',\n",
       "  'pass_fail': 'PASS'},\n",
       " {'project_id': 3,\n",
       "  'name': 'ABCD',\n",
       "  'description': 'by navneet',\n",
       "  'testcase_id': 2,\n",
       "  'test_category': 'testCat3',\n",
       "  'steps': '1. go. 2. come back',\n",
       "  'expected_result': 'test2Expected result',\n",
       "  'automated': 'No',\n",
       "  'tr_id': 3,\n",
       "  'map_id': 4,\n",
       "  'result_description': 'Base',\n",
       "  'config_info': '2345',\n",
       "  'tester': 'Rahul',\n",
       "  'execution_date': 'yesterday',\n",
       "  'pass_fail': 'fail'},\n",
       " {'project_id': 3,\n",
       "  'name': 'ABCD',\n",
       "  'description': 'by navneet',\n",
       "  'testcase_id': 5,\n",
       "  'test_category': 'testCat3',\n",
       "  'steps': '1. go. 2. come back 3.go back again',\n",
       "  'expected_result': 'test5Expected result',\n",
       "  'automated': '25%',\n",
       "  'tr_id': 4,\n",
       "  'map_id': 16,\n",
       "  'result_description': 'Final cut',\n",
       "  'config_info': '6e7832',\n",
       "  'tester': 'mememe',\n",
       "  'execution_date': '2030',\n",
       "  'pass_fail': ''},\n",
       " {'project_id': 3,\n",
       "  'name': 'ABCD',\n",
       "  'description': 'by navneet',\n",
       "  'testcase_id': 5,\n",
       "  'test_category': 'testCat3',\n",
       "  'steps': '1. go. 2. come back 3.go back again',\n",
       "  'expected_result': 'test5Expected result',\n",
       "  'automated': '25%',\n",
       "  'tr_id': 5,\n",
       "  'map_id': 16,\n",
       "  'result_description': 'test dups',\n",
       "  'config_info': '3423',\n",
       "  'tester': 'youyou',\n",
       "  'execution_date': 'aajhi',\n",
       "  'pass_fail': 'patanahi'}]"
      ]
     },
     "execution_count": 65,
     "metadata": {},
     "output_type": "execute_result"
    }
   ],
   "source": [
    "def sql_data_to_list_of_dicts(path_to_db, select_query):\n",
    "    \"\"\"Returns data from an SQL query as a list of dicts.\"\"\"\n",
    "    try:\n",
    "        con = sqlite3.connect(path_to_db)\n",
    "        con.row_factory = sqlite3.Row\n",
    "        things = con.execute(select_query).fetchall()\n",
    "        unpacked = [{k: item[k] for k in item.keys()} for item in things]\n",
    "        return unpacked\n",
    "    except Exception as e:\n",
    "        print(f\"Failed to execute. Query: {select_query}\\n with error:\\n{e}\")\n",
    "        return []\n",
    "    finally:\n",
    "        con.close()\n",
    "\n",
    "sql_data_to_list_of_dicts(\"testing.db\", \"SELECT Mst_projects.*, Mst_testcases.*, testresults.* FROM mapping JOIN Mst_projects ON mapping.project_id = Mst_projects.project_id JOIN Mst_testcases ON mapping.testcase_id = Mst_testcases.testcase_id JOIN testresults ON mapping.map_id = testresults.map_id\")"
   ]
  },
  {
   "cell_type": "code",
   "execution_count": null,
   "metadata": {},
   "outputs": [],
   "source": [
    "# mapping table inner joined to Mst_projects table and Mst_testcases table\n",
    "query = \"SELECT Mst_projects.*, Mst_testcases.* FROM mapping JOIN Mst_projects ON mapping.project_id = Mst_projects.project_id JOIN Mst_testcases ON mapping.testcase_id = Mst_testcases.testcase_id JOIN testresults ON mapping.map_id = testresults.map_id\""
   ]
  },
  {
   "cell_type": "code",
   "execution_count": null,
   "metadata": {},
   "outputs": [],
   "source": [
    "'''database schema\n",
    "        database name testing.db\n",
    "        tables\n",
    "        1. Mst_testcases (testcase_id, name, test category, description, steps, expected_result, automated)\n",
    "        2. Mst_projects (project_id, name, description)\n",
    "        3. Mapping (map_id, project_id, testcase_id)\n",
    "        4. testresults(tr_id, map_id, result_description, config_info, tester, execution_date, pass_fail)\n",
    "        ON DELETE CASCADE\n",
    "        \n",
    "'''\n",
    "\n",
    "# project ID = 1\n",
    "# find all tests mapped to the project ID that do not have a test result in the testresults table\n",
    "\n",
    "query = \"SELECT Mst_projects.*, Mst_testcases.* FROM mapping JOIN Mst_projects ON mapping.project_id = Mst_projects.project_id JOIN Mst_testcases ON mapping.testcase_id = Mst_testcases.testcase_id WHERE map_id NOT IN (SELECT map_id FROM testresults)\""
   ]
  },
  {
   "cell_type": "code",
   "execution_count": 27,
   "metadata": {},
   "outputs": [],
   "source": [
    "'''database schema\n",
    "        database name testing.db\n",
    "        tables\n",
    "        1. Mst_testcases (testcase_id, name, test category, description, steps, expected_result, automated)\n",
    "        2. Mst_projects (project_id, name, description)\n",
    "        3. Mapping (map_id, project_id, testcase_id)\n",
    "        4. testresults(tr_id, map_id, result_description, config_info, tester, execution_date, pass_fail)\n",
    "        ON DELETE CASCADE\n",
    "        \n",
    "'''\n",
    "\n",
    "# import data from excel file to Mst_testcases table. Excel file has the columns: \n",
    "# name, test category, description, steps, expected_result, automated\n",
    "# the data needs to be appended to existing data.\n",
    "# respect the primary key constraint. Primary key is testcase_id. auto increment.\n",
    "\n",
    "import pandas as pd\n",
    "import sqlite3\n",
    "conn = sqlite3.connect(\"testing.db\")\n",
    "# enforce foreign key rules\n",
    "conn.execute(\"PRAGMA foreign_keys = 1\")\n",
    "c = conn.cursor()\n",
    "# read excel file, forst row is the header\n",
    "df = pd.read_excel(\"testcases.xlsx\", header=1)\n",
    "\n",
    "\n",
    "\n",
    "df.drop(df.columns[0], axis=1, inplace=True)\n",
    "df.to_sql(\"Mst_testcases\", conn, if_exists=\"append\", index=False)\n"
   ]
  },
  {
   "cell_type": "code",
   "execution_count": null,
   "metadata": {},
   "outputs": [],
   "source": [
    "'''database schema\n",
    "        database name testing.db\n",
    "        tables\n",
    "        1. Mst_testcases (testcase_id, name, test category, description, steps, expected_result, automated)\n",
    "        2. Mst_projects (project_id, name, description)\n",
    "        3. Mapping (map_id, project_id, testcase_id)\n",
    "        4. testresults(tr_id, map_id, result_description, config_info, tester, execution_date, pass_fail)\n",
    "        ON DELETE CASCADE\n",
    "        \n",
    "'''\n",
    "\n",
    "# top 5 tests by their frequency of mapping in projects\n",
    "query = \"SELECT Mst_testcases.name, COUNT(*) as frequency FROM mapping JOIN Mst_testcases ON mapping.testcase_id = Mst_testcases.testcase_id GROUP BY mapping.testcase_id ORDER BY frequency DESC LIMIT 5\"\n",
    "\n",
    "# top 5 tests by their frequency of execution in projects using testresults table and mapping table\n",
    "query = \"SELECT Mst_testcases.name, COUNT(*) as frequency FROM testresults JOIN mapping ON testresults.map_id = mapping.map_id JOIN Mst_testcases ON mapping.testcase_id = Mst_testcases.testcase_id GROUP BY mapping.testcase_id ORDER BY frequency DESC LIMIT 5\"\n",
    "\n",
    "# top 5 tests by their frequency of execution in a given project id using \n",
    "# testresults table and mapping table and mst_projects table\n",
    "query = \"SELECT Mst_testcases.name, COUNT(*) as frequency FROM testresults JOIN mapping ON testresults.map_id = mapping.map_id JOIN Mst_testcases ON mapping.testcase_id = Mst_testcases.testcase_id JOIN Mst_projects ON mapping.project_id = Mst_projects.project_id WHERE Mst_projects.project_id = 1 GROUP BY mapping.testcase_id ORDER BY frequency DESC LIMIT 5\""
   ]
  },
  {
   "cell_type": "code",
   "execution_count": 2,
   "metadata": {},
   "outputs": [
    {
     "ename": "NameError",
     "evalue": "name 'sqlite3' is not defined",
     "output_type": "error",
     "traceback": [
      "\u001b[1;31m---------------------------------------------------------------------------\u001b[0m",
      "\u001b[1;31mNameError\u001b[0m                                 Traceback (most recent call last)",
      "\u001b[1;32m~\\AppData\\Local\\Temp/ipykernel_13188/815718284.py\u001b[0m in \u001b[0;36m<module>\u001b[1;34m\u001b[0m\n\u001b[0;32m     10\u001b[0m \"\"\"\n\u001b[0;32m     11\u001b[0m \u001b[1;33m\u001b[0m\u001b[0m\n\u001b[1;32m---> 12\u001b[1;33m \u001b[0mconn\u001b[0m \u001b[1;33m=\u001b[0m \u001b[0msqlite3\u001b[0m\u001b[1;33m.\u001b[0m\u001b[0mconnect\u001b[0m\u001b[1;33m(\u001b[0m\u001b[1;34m\"testing.db\"\u001b[0m\u001b[1;33m)\u001b[0m\u001b[1;33m\u001b[0m\u001b[1;33m\u001b[0m\u001b[0m\n\u001b[0m\u001b[0;32m     13\u001b[0m \u001b[1;31m# enforce foreign key rules\u001b[0m\u001b[1;33m\u001b[0m\u001b[1;33m\u001b[0m\u001b[1;33m\u001b[0m\u001b[0m\n\u001b[0;32m     14\u001b[0m \u001b[0mconn\u001b[0m\u001b[1;33m.\u001b[0m\u001b[0mexecute\u001b[0m\u001b[1;33m(\u001b[0m\u001b[1;34m\"PRAGMA foreign_keys = 1\"\u001b[0m\u001b[1;33m)\u001b[0m\u001b[1;33m\u001b[0m\u001b[1;33m\u001b[0m\u001b[0m\n",
      "\u001b[1;31mNameError\u001b[0m: name 'sqlite3' is not defined"
     ]
    }
   ],
   "source": [
    "\"\"\"create a new database if the database doesn't already exist\n",
    "        database name testing.db\n",
    "        tables\n",
    "        1. Mst_testcases (testcase_id, name, test category, description, steps, expected_result, automated)\n",
    "        2. Mst_projects (project_id, name, description)\n",
    "        3. Mapping (map_id, project_id, testcase_id)\n",
    "        4. testresults(tr_id, map_id, result_description, config_info, tester, execution_date, pass_fail)\n",
    "        5. users (username, hash)\n",
    "        ON DELETE CASCADE\n",
    "\"\"\"\n",
    "\n",
    "conn = sqlite3.connect(\"testing.db\")\n",
    "# enforce foreign key rules\n",
    "conn.execute(\"PRAGMA foreign_keys = 1\")\n",
    "c = conn.cursor()\n",
    "\n",
    "# create tables\n",
    "c.execute(\"\"\"CREATE TABLE IF NOT EXISTS Mst_testcases (\n",
    "            testcase_id INTEGER PRIMARY KEY,\n",
    "            name TEXT,\n",
    "            test_category TEXT,\n",
    "            description TEXT,\n",
    "            steps TEXT,\n",
    "            expected_result TEXT,\n",
    "            automated TEXT )\"\"\")\n",
    "\n",
    "c.execute(\"\"\"CREATE TABLE IF NOT EXISTS Mst_projects (\n",
    "            project_id INTEGER PRIMARY KEY,\n",
    "            name TEXT,\n",
    "            description TEXT )\"\"\")\n",
    "\n",
    "c.execute(\"\"\"CREATE TABLE IF NOT EXISTS Mapping (\n",
    "            map_id INTEGER PRIMARY KEY,\n",
    "            project_id INTEGER,\n",
    "            testcase_id INTEGER,\n",
    "            FOREIGN KEY(project_id) REFERENCES Mst_projects(project_id),\n",
    "            FOREIGN KEY(testcase_id) REFERENCES Mst_testcases(testcase_id)\n",
    "            ON DELETE CASCADE )\"\"\")\n",
    "\n",
    "c.execute(\"\"\"CREATE TABLE IF NOT EXISTS testresults (\n",
    "            tr_id INTEGER PRIMARY KEY,\n",
    "            map_id INTEGER,\n",
    "            result_description TEXT,\n",
    "            config_info TEXT,\n",
    "            tester TEXT,\n",
    "            execution_date TEXT,\n",
    "            pass_fail TEXT,\n",
    "            FOREIGN KEY(map_id) REFERENCES Mapping(map_id)\n",
    "            ON DELETE CASCADE )\"\"\")\n",
    "\n",
    "\n",
    "''' add uniqueness constraint on mapping table project id and testcase id'''\n",
    "c.execute(\"\"\"CREATE UNIQUE INDEX IF NOT EXISTS unique_mapping_index\n",
    "            ON Mapping(project_id, testcase_id)\"\"\")\n",
    "\n",
    "c.execute(\"\"\" CREATE TABLE IF NOT EXISTS users (\n",
    "            username TEXT PRIMARY KEY,\n",
    "            hash TEXT )\"\"\")\n"
   ]
  },
  {
   "cell_type": "code",
   "execution_count": 14,
   "metadata": {},
   "outputs": [],
   "source": [
    "from werkzeug.security import generate_password_hash, check_password_hash\n",
    "\n",
    "h = generate_password_hash('12345')\n",
    "\n"
   ]
  },
  {
   "cell_type": "code",
   "execution_count": 15,
   "metadata": {},
   "outputs": [
    {
     "data": {
      "text/plain": [
       "True"
      ]
     },
     "execution_count": 15,
     "metadata": {},
     "output_type": "execute_result"
    }
   ],
   "source": [
    "check_password_hash(h, '12345')"
   ]
  },
  {
   "cell_type": "code",
   "execution_count": 17,
   "metadata": {},
   "outputs": [
    {
     "ename": "OperationalError",
     "evalue": "unrecognized token: \"':username, :hash)\"",
     "output_type": "error",
     "traceback": [
      "\u001b[1;31m---------------------------------------------------------------------------\u001b[0m",
      "\u001b[1;31mOperationalError\u001b[0m                          Traceback (most recent call last)",
      "\u001b[1;32m~\\AppData\\Local\\Temp/ipykernel_13188/1841349142.py\u001b[0m in \u001b[0;36m<module>\u001b[1;34m\u001b[0m\n\u001b[0;32m      4\u001b[0m \u001b[1;33m\u001b[0m\u001b[0m\n\u001b[0;32m      5\u001b[0m \u001b[1;31m# insert username vaibhav.garg@genus.in and hashed password 12345 into users table\u001b[0m\u001b[1;33m\u001b[0m\u001b[1;33m\u001b[0m\u001b[1;33m\u001b[0m\u001b[0m\n\u001b[1;32m----> 6\u001b[1;33m \u001b[0mc\u001b[0m\u001b[1;33m.\u001b[0m\u001b[0mexecute\u001b[0m\u001b[1;33m(\u001b[0m\u001b[1;34m\"INSERT INTO users(username, hash) VALUES(':username, :hash)\"\u001b[0m\u001b[1;33m,\u001b[0m \u001b[1;33m{\u001b[0m\u001b[1;34m'username'\u001b[0m\u001b[1;33m:\u001b[0m \u001b[1;34m'vaibhav.garg@genus.in'\u001b[0m\u001b[1;33m,\u001b[0m \u001b[1;34m'hash'\u001b[0m\u001b[1;33m:\u001b[0m \u001b[0mgenerate_password_hash\u001b[0m\u001b[1;33m(\u001b[0m\u001b[1;34m'12345'\u001b[0m\u001b[1;33m)\u001b[0m\u001b[1;33m}\u001b[0m\u001b[1;33m)\u001b[0m\u001b[1;33m\u001b[0m\u001b[1;33m\u001b[0m\u001b[0m\n\u001b[0m\u001b[0;32m      7\u001b[0m \u001b[1;33m\u001b[0m\u001b[0m\n\u001b[0;32m      8\u001b[0m \u001b[0mconn\u001b[0m\u001b[1;33m.\u001b[0m\u001b[0mcommit\u001b[0m\u001b[1;33m(\u001b[0m\u001b[1;33m)\u001b[0m\u001b[1;33m\u001b[0m\u001b[1;33m\u001b[0m\u001b[0m\n",
      "\u001b[1;31mOperationalError\u001b[0m: unrecognized token: \"':username, :hash)\""
     ]
    }
   ],
   "source": [
    "import sqlite3\n",
    "conn = sqlite3.connect(\"testing.db\")\n",
    "c = conn.cursor()\n",
    "\n",
    "# insert username vaibhav.garg@genus.in and hashed password 12345 into users table\n",
    "c.execute(\"INSERT INTO users(username, hash) VALUES(':username, :hash)\", {'username': 'vaibhav.garg@genus.in', 'hash': generate_password_hash('12345')})\n",
    "\n",
    "\n",
    "conn.commit()"
   ]
  },
  {
   "cell_type": "code",
   "execution_count": 19,
   "metadata": {},
   "outputs": [],
   "source": [
    "import sqlite3\n",
    "conn = sqlite3.connect(\"testing.db\")\n",
    "c = conn.cursor()\n",
    "\n",
    "# insert username vaibhav.garg@genus.in and hashed password 12345 into users table\n",
    "# table users (username, hash)\n",
    "\n",
    "c.execute(\"INSERT INTO users(username, hash) VALUES(:username, :hash)\", {'username': 'vaibhav.garg@genus.in', 'hash': generate_password_hash('12345')})\n",
    "conn.commit()\n"
   ]
  },
  {
   "cell_type": "code",
   "execution_count": 22,
   "metadata": {},
   "outputs": [
    {
     "data": {
      "text/plain": [
       "[('vaibhav.garg@genus.in',\n",
       "  'pbkdf2:sha256:150000$e6H1etAe$6b03629692fa289a7f7f59905ea9d407a89351164927aba5dce2ac01782ff0ba')]"
      ]
     },
     "execution_count": 22,
     "metadata": {},
     "output_type": "execute_result"
    }
   ],
   "source": [
    "\n",
    "query = \"SELECT * FROM users where username = 'vaibhav.garg@genus.in'\"\n",
    "[row for row in c.execute(query)]"
   ]
  },
  {
   "cell_type": "code",
   "execution_count": 29,
   "metadata": {},
   "outputs": [
    {
     "data": {
      "text/plain": [
       "'pbkdf2:sha256:150000$e6H1etAe$6b03629692fa289a7f7f59905ea9d407a89351164927aba5dce2ac01782ff0ba'"
      ]
     },
     "execution_count": 29,
     "metadata": {},
     "output_type": "execute_result"
    }
   ],
   "source": [
    "c.execute(query)\n",
    "c.fetchone()[1]"
   ]
  },
  {
   "cell_type": "code",
   "execution_count": 76,
   "metadata": {},
   "outputs": [
    {
     "data": {
      "text/html": [
       "<div>\n",
       "<style scoped>\n",
       "    .dataframe tbody tr th:only-of-type {\n",
       "        vertical-align: middle;\n",
       "    }\n",
       "\n",
       "    .dataframe tbody tr th {\n",
       "        vertical-align: top;\n",
       "    }\n",
       "\n",
       "    .dataframe thead th {\n",
       "        text-align: right;\n",
       "    }\n",
       "</style>\n",
       "<table border=\"1\" class=\"dataframe\">\n",
       "  <thead>\n",
       "    <tr style=\"text-align: right;\">\n",
       "      <th></th>\n",
       "      <th>testcase_id</th>\n",
       "    </tr>\n",
       "    <tr>\n",
       "      <th>tc_name</th>\n",
       "      <th></th>\n",
       "    </tr>\n",
       "  </thead>\n",
       "  <tbody>\n",
       "    <tr>\n",
       "      <th>tc5</th>\n",
       "      <td>5</td>\n",
       "    </tr>\n",
       "    <tr>\n",
       "      <th>testcase1</th>\n",
       "      <td>4</td>\n",
       "    </tr>\n",
       "    <tr>\n",
       "      <th>testcase2</th>\n",
       "      <td>4</td>\n",
       "    </tr>\n",
       "    <tr>\n",
       "      <th>tc1234</th>\n",
       "      <td>1</td>\n",
       "    </tr>\n",
       "  </tbody>\n",
       "</table>\n",
       "</div>"
      ],
      "text/plain": [
       "           testcase_id\n",
       "tc_name               \n",
       "tc5                  5\n",
       "testcase1            4\n",
       "testcase2            4\n",
       "tc1234               1"
      ]
     },
     "execution_count": 76,
     "metadata": {},
     "output_type": "execute_result"
    }
   ],
   "source": [
    "import sqlite3\n",
    "conn = sqlite3.connect(\"testing1.db\")\n",
    "c = conn.cursor()\n",
    "\n",
    "query = \"SELECT Mst_projects.*, Mst_testcases.*, testresults.*, Mst_testcases.name as tc_name FROM mapping JOIN Mst_projects ON mapping.project_id = Mst_projects.project_id JOIN Mst_testcases ON mapping.testcase_id = Mst_testcases.testcase_id JOIN testresults ON mapping.map_id = testresults.map_id\"\n",
    "\n",
    "data = [row for row in c.execute(query)]\n",
    "import pandas as pd\n",
    "df = pd.read_sql_query(query, conn)\n",
    "df_pvt = df[df['project_id'] ==3]\n",
    "# select only testcase_id, tc_name columns from df_pvt\n",
    "df_pvt = df_pvt[['testcase_id', 'tc_name', ]]\n",
    "# create pivot table, with tc_name as index and count of testcase_id as column\n",
    "df_pvt.pivot_table(index='tc_name', aggfunc='count').sort_values(by='testcase_id', ascending=False)"
   ]
  },
  {
   "cell_type": "code",
   "execution_count": 5,
   "metadata": {},
   "outputs": [],
   "source": [
    "'''database schema\n",
    "        database name testing.db\n",
    "        tables\n",
    "        1. Mst_testcases (testcase_id, name, test category, description, steps, expected_result, automated)\n",
    "        2. Mst_projects (project_id, name, description)\n",
    "        3. Mapping (map_id, project_id, testcase_id)\n",
    "        4. testresults(tr_id, map_id, result_description, config_info, tester, execution_date, pass_fail)\n",
    "        ON DELETE CASCADE\n",
    "        \n",
    "'''\n",
    "\n",
    "# insert 10000 rows into Mst_testcases table with dummy data\n",
    "import sqlite3\n",
    "conn = sqlite3.connect(\"testing.db\")\n",
    "c = conn.cursor()\n",
    "\n",
    "query = \"INSERT INTO Mst_testcases(name, test_category, description, steps, expected_result, automated) VALUES(:name, :test_category, :description, :steps, :expected_result, :automated)\"\n",
    "for i in range(1000000):\n",
    "    c.execute(query, {'name': 'testcase_name'+str(i), 'test_category': 'test_category'+str(i), 'description': 'description'+str(i), 'steps': 'steps'+str(i), 'expected_result': 'expected_result'+str(i), 'automated': 'automated' +str(i)}\n",
    ")\n",
    "\n",
    "conn.commit()\n",
    "\n"
   ]
  }
 ],
 "metadata": {
  "interpreter": {
   "hash": "7a1b2804db0443589973a1d53dc5810636b27484252de38a096f569ea214cb90"
  },
  "kernelspec": {
   "display_name": "Python 3.8.0 64-bit ('tfdev': conda)",
   "name": "python3"
  },
  "language_info": {
   "codemirror_mode": {
    "name": "ipython",
    "version": 3
   },
   "file_extension": ".py",
   "mimetype": "text/x-python",
   "name": "python",
   "nbconvert_exporter": "python",
   "pygments_lexer": "ipython3",
   "version": "3.8.0"
  },
  "orig_nbformat": 4
 },
 "nbformat": 4,
 "nbformat_minor": 2
}
